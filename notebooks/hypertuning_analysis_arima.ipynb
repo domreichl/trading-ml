{
 "cells": [
  {
   "cell_type": "code",
   "execution_count": 1,
   "metadata": {},
   "outputs": [],
   "source": [
    "import warnings\n",
    "warnings.simplefilter(action='ignore', category=FutureWarning)\n",
    "\n",
    "import pandas as pd\n",
    "import seaborn as sns"
   ]
  },
  {
   "cell_type": "markdown",
   "metadata": {},
   "source": [
    "## ARIMA"
   ]
  },
  {
   "cell_type": "markdown",
   "metadata": {},
   "source": [
    "### Order & Seasonal Order\n",
    "\n",
    "Optimal parameters:\n",
    "- p = 0\n",
    "- d = 0\n",
    "- q = 0\n",
    "- P = 0\n",
    "- D = 0\n",
    "- Q = 0"
   ]
  },
  {
   "cell_type": "code",
   "execution_count": 2,
   "metadata": {},
   "outputs": [
    {
     "name": "stdout",
     "output_type": "stream",
     "text": [
      "[ 260  520 1040 2600]\n",
      "[1 5]\n"
     ]
    }
   ],
   "source": [
    "df = pd.read_csv(\"../results/tuning/AutoARIMA.csv\", sep=\";\")\n",
    "print(df[\"LookBackWindowSize\"].unique())\n",
    "print(df[\"SeasonalPeriod\"].unique())"
   ]
  },
  {
   "cell_type": "code",
   "execution_count": 3,
   "metadata": {},
   "outputs": [
    {
     "name": "stdout",
     "output_type": "stream",
     "text": [
      "p\n",
      "0    25\n",
      "1     5\n",
      "2     4\n",
      "Name: count, dtype: int64\n",
      "d\n",
      "0    34\n",
      "Name: count, dtype: int64\n",
      "q\n",
      "0    21\n",
      "1     7\n",
      "2     3\n",
      "4     2\n",
      "3     1\n",
      "Name: count, dtype: int64\n",
      "P\n",
      "0    33\n",
      "1     1\n",
      "Name: count, dtype: int64\n",
      "D\n",
      "0    34\n",
      "Name: count, dtype: int64\n",
      "Q\n",
      "0    22\n",
      "1     6\n",
      "2     6\n",
      "Name: count, dtype: int64\n"
     ]
    }
   ],
   "source": [
    "lbws = 2600\n",
    "sp = 5\n",
    "tmp = df[(df[\"LookBackWindowSize\"]==lbws) & (df[\"SeasonalPeriod\"]==sp)]\n",
    "for col in tmp.columns[:-3]:\n",
    "    print(tmp[col].value_counts())"
   ]
  },
  {
   "cell_type": "markdown",
   "metadata": {},
   "source": [
    "### Seasonal Period & Look Back Window Size\n",
    "\n",
    "Findings:\n",
    "- SeasonalPeriod doesn't matter much, so stick to either 0 (no seasonality) or 5 (weekly seasonality).\n",
    "- LookBackWindowSize matters: the longer, the better."
   ]
  },
  {
   "cell_type": "code",
   "execution_count": 4,
   "metadata": {},
   "outputs": [
    {
     "name": "stdout",
     "output_type": "stream",
     "text": [
      "SeasonalPeriod\n",
      "0      38\n",
      "5      39\n",
      "22     38\n",
      "65     38\n",
      "130    38\n",
      "Name: F1-Score, dtype: int64\n",
      "\n",
      "LookBackWindowSize\n",
      "260     37\n",
      "520     38\n",
      "1040    39\n",
      "2600    40\n",
      "Name: F1-Score, dtype: int64\n"
     ]
    }
   ],
   "source": [
    "df = pd.read_csv(\"../results/tuning/ARIMA_general.csv\", sep=\";\")\n",
    "print(round(df.groupby(\"SeasonalPeriod\")[\"F1-Score\"].mean()*100).astype(int))\n",
    "print()\n",
    "print(round(df.groupby(\"LookBackWindowSize\")[\"F1-Score\"].mean()*100).astype(int))"
   ]
  },
  {
   "cell_type": "markdown",
   "metadata": {},
   "source": [
    "### Seasonal Period of 0 vs 5\n",
    "\n",
    "Conclusion:\n",
    "- No SeasonalPeriod is needed."
   ]
  },
  {
   "cell_type": "code",
   "execution_count": 5,
   "metadata": {},
   "outputs": [
    {
     "data": {
      "image/png": "[encoded data removed]",
      "text/plain": [
       "<Figure size 640x480 with 1 Axes>"
      ]
     },
     "metadata": {},
     "output_type": "display_data"
    }
   ],
   "source": [
    "df = pd.read_csv(\"../results/tuning/ARIMA_specific.csv\", sep=\";\")\n",
    "sns.barplot(x=\"LookBackWindowSize\", y=\"F1-Score\", hue=\"SeasonalPeriod\", data=df);"
   ]
  },
  {
   "cell_type": "code",
   "execution_count": null,
   "metadata": {},
   "outputs": [],
   "source": []
  }
 ],
 "metadata": {
  "kernelspec": {
   "display_name": ".venv",
   "language": "python",
   "name": "python3"
  },
  "language_info": {
   "codemirror_mode": {
    "name": "ipython",
    "version": 3
   },
   "file_extension": ".py",
   "mimetype": "text/x-python",
   "name": "python",
   "nbconvert_exporter": "python",
   "pygments_lexer": "ipython3",
   "version": "3.11.4"
  }
 },
 "nbformat": 4,
 "nbformat_minor": 2
}
