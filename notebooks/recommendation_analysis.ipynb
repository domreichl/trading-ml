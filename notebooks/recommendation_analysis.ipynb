{
 "cells": [
  {
   "cell_type": "code",
   "execution_count": null,
   "metadata": {},
   "outputs": [],
   "source": [
    "import warnings\n",
    "warnings.simplefilter(\"ignore\", FutureWarning)\n",
    "import json\n",
    "import pandas as pd\n",
    "\n",
    "from utils.config import Config\n",
    "from utils.visualization import plot_overfitting, plot_test_metrics"
   ]
  },
  {
   "cell_type": "markdown",
   "metadata": {},
   "source": [
    "### Check Metrics"
   ]
  },
  {
   "cell_type": "code",
   "execution_count": null,
   "metadata": {},
   "outputs": [],
   "source": [
    "plot_overfitting()"
   ]
  },
  {
   "cell_type": "code",
   "execution_count": null,
   "metadata": {},
   "outputs": [],
   "source": [
    "plot_test_metrics()"
   ]
  },
  {
   "cell_type": "markdown",
   "metadata": {},
   "source": [
    "### Check Recommendation"
   ]
  },
  {
   "cell_type": "code",
   "execution_count": null,
   "metadata": {},
   "outputs": [],
   "source": [
    "rec = json.load(open(\"../results/recommendation.json\", \"r\"))\n",
    "print(\"Ratings:\", rec[\"TopModelRatings\"], \"\\n\")\n",
    "for k, v in rec[\"MedianTopModelTestMetrics\"].items():\n",
    "    print(f\"{k}: {round(v, 2)}\")"
   ]
  },
  {
   "cell_type": "code",
   "execution_count": null,
   "metadata": {},
   "outputs": [],
   "source": [
    "long = pd.DataFrame({k: v for k, v in rec[\"long\"].items() if k in [\"risk\", \"reward\"]}).transpose()\n",
    "short = pd.DataFrame({k: v for k, v in rec[\"short\"].items() if k in [\"risk\", \"reward\"]}).transpose()\n",
    "df = pd.concat([\n",
    "    pd.concat({\"long\": long}, names=[\"PositionType\"]),\n",
    "    pd.concat({\"short\": short}, names=[\"PositionType\"])\n",
    "])\n",
    "df"
   ]
  },
  {
   "cell_type": "markdown",
   "metadata": {},
   "source": [
    "### Trade"
   ]
  },
  {
   "cell_type": "code",
   "execution_count": null,
   "metadata": {},
   "outputs": [],
   "source": [
    "# Select\n",
    "position_type = \"short\"\n",
    "optimize = \"risk\"\n",
    "\n",
    "trade = df.loc[position_type].loc[optimize]\n",
    "print(trade[\"TopStock\"])\n",
    "trade[\"ISINDescription\"] = Config().securities[trade[\"TopStock\"]]\n",
    "trade[\"PositionType\"] = position_type\n",
    "trade[\"Optimize\"] = optimize\n",
    "trade[\"TopModelRatings\"] = rec[\"TopModelRatings\"]\n",
    "trade[\"MedianTopModelTestMetrics\"] = rec[\"MedianTopModelTestMetrics\"]\n",
    "trade"
   ]
  },
  {
   "cell_type": "code",
   "execution_count": null,
   "metadata": {},
   "outputs": [],
   "source": [
    "# Open\n",
    "trade[\"WKN\"] = \"\"\n",
    "trade[\"WKN Description\"] = \"\"\n",
    "trade[\"Security Type\"] = \"turbo\"\n",
    "trade[\"Fundamentals\"] = \"\"\n",
    "trade[\"Git Tag\"] = \"20231102\"\n",
    "trade[\"Open Date\"] = \"\"\n",
    "trade[\"Open Price\"] = 0\n",
    "trade[\"Stop Limit\"] = 0\n",
    "trade[\"Shares\"] = 0\n",
    "trade"
   ]
  },
  {
   "cell_type": "code",
   "execution_count": null,
   "metadata": {},
   "outputs": [],
   "source": [
    "# Close\n",
    "trade[\"Close Price\"] = 0\n",
    "trade[\"Gross Profit\"] = 0\n",
    "trade[\"Fees\"] = 0\n",
    "trade[\"Net Profit\"] = 0\n",
    "trade[\"Reward\"] = 0\n",
    "trade"
   ]
  },
  {
   "cell_type": "code",
   "execution_count": null,
   "metadata": {},
   "outputs": [],
   "source": [
    "# Persist\n",
    "path = \"../results/trades.csv\"\n",
    "trades = pd.read_csv(path, sep=\";\")\n",
    "# pd.concat([trades, trade]).to_csv(path, sep=\";\", index=False)"
   ]
  },
  {
   "cell_type": "code",
   "execution_count": null,
   "metadata": {},
   "outputs": [],
   "source": []
  }
 ],
 "metadata": {
  "kernelspec": {
   "display_name": ".venv",
   "language": "python",
   "name": "python3"
  },
  "language_info": {
   "codemirror_mode": {
    "name": "ipython",
    "version": 3
   },
   "file_extension": ".py",
   "mimetype": "text/x-python",
   "name": "python",
   "nbconvert_exporter": "python",
   "pygments_lexer": "ipython3",
   "version": "3.11.4"
  }
 },
 "nbformat": 4,
 "nbformat_minor": 2
}
