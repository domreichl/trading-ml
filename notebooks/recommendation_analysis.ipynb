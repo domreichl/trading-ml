{
 "cells": [
  {
   "cell_type": "code",
   "execution_count": 1,
   "metadata": {},
   "outputs": [],
   "source": [
    "import json\n",
    "import pandas as pd"
   ]
  },
  {
   "cell_type": "markdown",
   "metadata": {},
   "source": [
    "### Check Overfitting"
   ]
  },
  {
   "cell_type": "code",
   "execution_count": null,
   "metadata": {},
   "outputs": [],
   "source": [
    "val = pd.read_csv(\"../results/validation_metrics\", sep=\";\")\n",
    "test = pd.read_csv(\"../results/test_metrics.csv\", sep=\";\")"
   ]
  },
  {
   "cell_type": "markdown",
   "metadata": {},
   "source": [
    "### Check Recommendation"
   ]
  },
  {
   "cell_type": "code",
   "execution_count": 49,
   "metadata": {},
   "outputs": [
    {
     "name": "stdout",
     "output_type": "stream",
     "text": [
      "['main_exponential_smoothing', 'main_prophet']\n",
      "['main_exponential_smoothing', 'main_prophet']\n"
     ]
    }
   ],
   "source": [
    "rec = json.load(open(\"../results/recommendation.json\", \"r\"))\n",
    "long = rec[\"long\"]\n",
    "short = rec[\"short\"]\n",
    "print(long[\"top models\"])\n",
    "print(short[\"top models\"])"
   ]
  },
  {
   "cell_type": "code",
   "execution_count": 50,
   "metadata": {},
   "outputs": [
    {
     "data": {
      "text/html": [
       "<div>\n",
       "<style scoped>\n",
       "    .dataframe tbody tr th:only-of-type {\n",
       "        vertical-align: middle;\n",
       "    }\n",
       "\n",
       "    .dataframe tbody tr th {\n",
       "        vertical-align: top;\n",
       "    }\n",
       "\n",
       "    .dataframe thead th {\n",
       "        text-align: right;\n",
       "    }\n",
       "</style>\n",
       "<table border=\"1\" class=\"dataframe\">\n",
       "  <thead>\n",
       "    <tr style=\"text-align: right;\">\n",
       "      <th></th>\n",
       "      <th></th>\n",
       "      <th>Top Stock</th>\n",
       "      <th>Predicted Return</th>\n",
       "      <th>Model Agreement</th>\n",
       "      <th>Market Trend</th>\n",
       "      <th>MACD Crossover</th>\n",
       "      <th>Market State</th>\n",
       "      <th>Fast Stochastic Oscillator</th>\n",
       "      <th>Bollinger Band Breakout</th>\n",
       "    </tr>\n",
       "    <tr>\n",
       "      <th>PositionType</th>\n",
       "      <th></th>\n",
       "      <th></th>\n",
       "      <th></th>\n",
       "      <th></th>\n",
       "      <th></th>\n",
       "      <th></th>\n",
       "      <th></th>\n",
       "      <th></th>\n",
       "      <th></th>\n",
       "    </tr>\n",
       "  </thead>\n",
       "  <tbody>\n",
       "    <tr>\n",
       "      <th rowspan=\"2\" valign=\"top\">long</th>\n",
       "      <th>risk</th>\n",
       "      <td>AT0000741053</td>\n",
       "      <td>1.0097</td>\n",
       "      <td>100</td>\n",
       "      <td>neutral</td>\n",
       "      <td>0</td>\n",
       "      <td>overbought</td>\n",
       "      <td>100</td>\n",
       "      <td>0</td>\n",
       "    </tr>\n",
       "    <tr>\n",
       "      <th>reward</th>\n",
       "      <td>AT0000A21KS2</td>\n",
       "      <td>1.02308</td>\n",
       "      <td>50</td>\n",
       "      <td>bullish</td>\n",
       "      <td>1</td>\n",
       "      <td>neither overbought nor oversold</td>\n",
       "      <td>79</td>\n",
       "      <td>0</td>\n",
       "    </tr>\n",
       "    <tr>\n",
       "      <th rowspan=\"2\" valign=\"top\">short</th>\n",
       "      <th>risk</th>\n",
       "      <td>AT0000937503</td>\n",
       "      <td>0.92439</td>\n",
       "      <td>100</td>\n",
       "      <td>neutral</td>\n",
       "      <td>0</td>\n",
       "      <td>oversold</td>\n",
       "      <td>0</td>\n",
       "      <td>0</td>\n",
       "    </tr>\n",
       "    <tr>\n",
       "      <th>reward</th>\n",
       "      <td>AT0000743059</td>\n",
       "      <td>0.83938</td>\n",
       "      <td>50</td>\n",
       "      <td>neutral</td>\n",
       "      <td>0</td>\n",
       "      <td>neither overbought nor oversold</td>\n",
       "      <td>42</td>\n",
       "      <td>0</td>\n",
       "    </tr>\n",
       "  </tbody>\n",
       "</table>\n",
       "</div>"
      ],
      "text/plain": [
       "                        Top Stock Predicted Return Model Agreement  \\\n",
       "PositionType                                                         \n",
       "long         risk    AT0000741053           1.0097             100   \n",
       "             reward  AT0000A21KS2          1.02308              50   \n",
       "short        risk    AT0000937503          0.92439             100   \n",
       "             reward  AT0000743059          0.83938              50   \n",
       "\n",
       "                    Market Trend MACD Crossover  \\\n",
       "PositionType                                      \n",
       "long         risk        neutral              0   \n",
       "             reward      bullish              1   \n",
       "short        risk        neutral              0   \n",
       "             reward      neutral              0   \n",
       "\n",
       "                                        Market State  \\\n",
       "PositionType                                           \n",
       "long         risk                         overbought   \n",
       "             reward  neither overbought nor oversold   \n",
       "short        risk                           oversold   \n",
       "             reward  neither overbought nor oversold   \n",
       "\n",
       "                    Fast Stochastic Oscillator Bollinger Band Breakout  \n",
       "PositionType                                                            \n",
       "long         risk                          100                       0  \n",
       "             reward                         79                       0  \n",
       "short        risk                            0                       0  \n",
       "             reward                         42                       0  "
      ]
     },
     "execution_count": 50,
     "metadata": {},
     "output_type": "execute_result"
    }
   ],
   "source": [
    "long = pd.DataFrame({k: v for k, v in long.items() if k in [\"risk\", \"reward\"]}).transpose()\n",
    "short = pd.DataFrame({k: v for k, v in short.items() if k in [\"risk\", \"reward\"]}).transpose()\n",
    "pd.concat([\n",
    "    pd.concat({\"long\": long}, names=[\"PositionType\"]),\n",
    "    pd.concat({\"short\": short}, names=[\"PositionType\"])\n",
    "])"
   ]
  },
  {
   "cell_type": "code",
   "execution_count": null,
   "metadata": {},
   "outputs": [],
   "source": []
  }
 ],
 "metadata": {
  "kernelspec": {
   "display_name": ".venv",
   "language": "python",
   "name": "python3"
  },
  "language_info": {
   "codemirror_mode": {
    "name": "ipython",
    "version": 3
   },
   "file_extension": ".py",
   "mimetype": "text/x-python",
   "name": "python",
   "nbconvert_exporter": "python",
   "pygments_lexer": "ipython3",
   "version": "3.11.4"
  }
 },
 "nbformat": 4,
 "nbformat_minor": 2
}
