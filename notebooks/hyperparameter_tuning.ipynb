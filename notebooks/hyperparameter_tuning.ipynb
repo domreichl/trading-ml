{
 "cells": [
  {
   "cell_type": "code",
   "execution_count": null,
   "metadata": {},
   "outputs": [],
   "source": [
    "import optuna, random\n",
    "import numpy as np\n",
    "import pandas as pd\n",
    "\n",
    "from utils.data_preprocessing import preprocess_data\n",
    "from utils.data_processing import get_signs_from_returns\n",
    "from utils.evaluation import evaluate_return_predictions, evaluate_sign_predictions"
   ]
  },
  {
   "cell_type": "markdown",
   "metadata": {},
   "source": [
    "### Define Functions"
   ]
  },
  {
   "cell_type": "code",
   "execution_count": null,
   "metadata": {},
   "outputs": [],
   "source": [
    "def validate(mts, n_validations, sp) -> tuple[float, float]:\n",
    "    test_days = len(mts.y_test)\n",
    "    mae_lst, rmse_lst, f1_lst = [], [], []\n",
    "    for i, ts_name in enumerate(mts.names):\n",
    "        print(f\"Validating arima_{ts_name}\")\n",
    "        for _ in range(n_validations):\n",
    "            trial_i = random.randint(0, len(mts.x_train) - 1 - test_days)\n",
    "            model = AutoARIMA(sp=sp, stationary=True, suppress_warnings=True)\n",
    "            y_true = mts.x_train[trial_i + 1 : trial_i + 1 + test_days, -1, i]\n",
    "            y_pred = np.squeeze(\n",
    "                model.fit_predict(\n",
    "                    mts.x_train[trial_i, :, i], fh=range(1, test_days + 1)\n",
    "                )\n",
    "            )\n",
    "            assert y_true.shape == y_pred.shape == (test_days,)\n",
    "            gt = mts.get_returns_from_features(y_true)\n",
    "            pr = mts.get_returns_from_features(y_pred)\n",
    "            metrics = evaluate_return_predictions(gt, pr)\n",
    "            metrics_sign = evaluate_sign_predictions(\n",
    "                get_signs_from_returns(gt), get_signs_from_returns(pr)\n",
    "            )\n",
    "            mae_lst.append(metrics[\"MAE\"])\n",
    "            rmse_lst.append(metrics[\"RMSE\"])\n",
    "            f1_lst.append(metrics_sign[\"F1\"])\n",
    "    return float(np.mean(mae_lst)), float(np.mean(rmse_lst)), float(np.mean(f1_lst))"
   ]
  },
  {
   "cell_type": "code",
   "execution_count": null,
   "metadata": {},
   "outputs": [],
   "source": [
    "def objective(trial):\n",
    "    lbws = trial.suggest_int(\"look_back_window_size\", 20, 1040, 5)\n",
    "    sp = trial.suggest_int(\"seasonal_period\", 1, 5, 1)\n",
    "    mts = preprocess_data(\"exp.csv\", look_back_window_size=lbws)\n",
    "    mae, _, f1 = validate(mts, 100, sp)\n",
    "    return mae, f1"
   ]
  },
  {
   "cell_type": "markdown",
   "metadata": {},
   "source": [
    "### Run Study"
   ]
  },
  {
   "cell_type": "code",
   "execution_count": null,
   "metadata": {},
   "outputs": [],
   "source": [
    "study = optuna.create_study(\n",
    "    directions=[\"minimize\", \"maximize\"],\n",
    "    sampler=optuna.samplers.GridSampler(\n",
    "        {\n",
    "            \"look_back_window_size\": [20, 65, 130, 260, 520, 1040],\n",
    "            \"seasonal_period\": [1, 5],\n",
    "        }\n",
    "    ),\n",
    ")\n",
    "study.optimize(objective)"
   ]
  },
  {
   "cell_type": "markdown",
   "metadata": {},
   "source": [
    "### Process Results"
   ]
  },
  {
   "cell_type": "code",
   "execution_count": null,
   "metadata": {},
   "outputs": [],
   "source": [
    "df = study.trials_dataframe()\n",
    "df[\"Model\"] = \"arima\"\n",
    "df = df[[\"Model\", \"params_lock_back_window_size\", \"params_seasonal_period\", \"values_0\", \"values_1\"]]\n",
    "df.columns = [\"Model\", \"LookBackWindowSize\", \"SeasonalPeriod\", \"MAE\", \"F1-Score\"]\n",
    "df.sort_values(\"F1-Score\", inplace=True)\n",
    "pd.to_csv(\"../results/tuning/autoarima.csv\", sep=\";\", index=False)\n"
   ]
  }
 ],
 "metadata": {
  "kernelspec": {
   "display_name": ".venv",
   "language": "python",
   "name": "python3"
  },
  "language_info": {
   "codemirror_mode": {
    "name": "ipython",
    "version": 3
   },
   "file_extension": ".py",
   "mimetype": "text/x-python",
   "name": "python",
   "nbconvert_exporter": "python",
   "pygments_lexer": "ipython3",
   "version": "3.11.4"
  }
 },
 "nbformat": 4,
 "nbformat_minor": 2
}
