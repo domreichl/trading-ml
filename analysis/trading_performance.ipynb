{
 "cells": [
  {
   "cell_type": "code",
   "execution_count": null,
   "metadata": {},
   "outputs": [],
   "source": [
    "import json\n",
    "import numpy as np\n",
    "import pandas as pd\n",
    "from sklearn.metrics import accuracy_score\n",
    "\n",
    "from utils.evaluation import compute_SMAPE, evaluate_return_predictions"
   ]
  },
  {
   "cell_type": "code",
   "execution_count": null,
   "metadata": {},
   "outputs": [],
   "source": [
    "trades = pd.read_csv(\"../results/trades.csv\", sep=';')\n",
    "statistics = json.load(open(\"../results/trades_statistics.json\", \"r\"))\n",
    "len(trades), len(statistics)"
   ]
  },
  {
   "cell_type": "code",
   "execution_count": null,
   "metadata": {},
   "outputs": [],
   "source": [
    "trades"
   ]
  },
  {
   "cell_type": "code",
   "execution_count": null,
   "metadata": {},
   "outputs": [],
   "source": [
    "statistics"
   ]
  },
  {
   "cell_type": "code",
   "execution_count": null,
   "metadata": {},
   "outputs": [],
   "source": [
    "def compute_trading_performance(df: pd.DataFrame) -> pd.DataFrame:\n",
    "    performance = {}\n",
    "    for model in df[\"MODEL\"].unique():\n",
    "        df_model = df[df[\"MODEL\"] == model]\n",
    "        buy_price = df_model[\"BUY_PRICE\"].values\n",
    "        sell_price_gt = df_model[\"SELL_PRICE\"].values\n",
    "        sell_price_pr = df_model[\"PREDICTED_PRICE\"].values\n",
    "        win_gt = sell_price_gt > buy_price\n",
    "        win_pr = sell_price_pr > buy_price\n",
    "        metrics = evaluate_return_predictions(win_gt, win_pr)\n",
    "        performance[model] = {\n",
    "            \"RETURN_MAE\": round(np.mean(df_model[\"RETURN_AE\"]), 4),\n",
    "            \"PRICE_SMAPE\": round(compute_SMAPE(sell_price_gt, sell_price_pr), 2),\n",
    "            \"ACCURACY\": accuracy_score(win_gt, win_pr),\n",
    "            \"PRECISION\": metrics[\"Precision\"],\n",
    "            \"RECALL\": metrics[\"Recall\"],\n",
    "            \"F1\": metrics[\"F1\"],\n",
    "        }\n",
    "    performance = pd.DataFrame(performance).transpose()\n",
    "    performance = performance.reset_index(names=\"Model\")\n",
    "    return performance"
   ]
  }
 ],
 "metadata": {
  "kernelspec": {
   "display_name": ".venv",
   "language": "python",
   "name": "python3"
  },
  "language_info": {
   "codemirror_mode": {
    "name": "ipython",
    "version": 3
   },
   "file_extension": ".py",
   "mimetype": "text/x-python",
   "name": "python",
   "nbconvert_exporter": "python",
   "pygments_lexer": "ipython3",
   "version": "3.11.4"
  }
 },
 "nbformat": 4,
 "nbformat_minor": 2
}
